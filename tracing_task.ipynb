from src.task_vectors import TaskVector
from transformers import AutoTokenizer, AutoModel, BertForSequenceClassification, AutoModelForSequenceClassification
from huggingface_hub import login

login(userdata.get('hg'))

task_vector = TaskVector.from_huggingface("meta-llama/Llama-2-7b-hf", "kdearsty/tracing-llama",
                                          model_type=AutoModelForSequenceClassification)
tracing_model = task_vector.apply_to(pretrained_model_name="meta-llama/Llama-2-7b-hf")
