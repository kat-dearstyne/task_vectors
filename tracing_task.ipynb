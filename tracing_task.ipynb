{
 "nbformat": 4,
 "nbformat_minor": 0,
 "metadata": {
  "colab": {
   "provenance": []
  },
  "kernelspec": {
   "name": "python3",
   "display_name": "Python 3"
  },
  "language_info": {
   "name": "python"
  }
 },
 "cells": [
  {
   "cell_type": "code",
   "execution_count": null,
   "metadata": {
    "colab": {
     "base_uri": "https://localhost:8080/",
     "height": 383
    },
    "id": "jZsOKmP-FA0L",
    "outputId": "79507959-46f3-46f6-dbc8-82f964e3d5c9"
   },
   "outputs": [],
   "source": [
    "from src.task_vectors import TaskVector\n",
    "from transformers import AutoTokenizer, AutoModel, BertForSequenceClassification, AutoModelForSequenceClassification\n",
    "from huggingface_hub import login\n",
    "\n",
    "login(userdata.get('hg'))\n",
    "\n",
    "task_vector = TaskVector.from_huggingface(\"meta-llama/Llama-2-7b-hf\", \"kdearsty/tracing-llama\",\n",
    "                                          model_type=AutoModelForSequenceClassification)\n",
    "tracing_model = task_vector.apply_to(pretrained_model_name=\"meta-llama/Llama-2-7b-hf\")"
   ]
  }
 ]
}
